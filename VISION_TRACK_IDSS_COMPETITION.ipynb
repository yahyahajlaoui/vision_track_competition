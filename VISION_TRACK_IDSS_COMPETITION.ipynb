{
  "cells": [
    {
      "cell_type": "markdown",
      "metadata": {
        "id": "OC_zro8Rm0EC"
      },
      "source": [
        "# Olive Tree Disease Recognition\n",
        "## IDSS Hackathon Track 2\n",
        "### Mahmoud Limam & Yahya Hajlaoui, Enet'Com"
      ]
    },
    {
      "cell_type": "code",
      "execution_count": null,
      "metadata": {
        "execution": {
          "iopub.execute_input": "2021-12-05T07:37:59.320933Z",
          "iopub.status.busy": "2021-12-05T07:37:59.320142Z",
          "iopub.status.idle": "2021-12-05T07:38:00.021538Z",
          "shell.execute_reply": "2021-12-05T07:38:00.020719Z",
          "shell.execute_reply.started": "2021-12-05T07:37:59.320892Z"
        },
        "id": "vvbOAIP6m0EE"
      },
      "outputs": [],
      "source": [
        "import numpy as np\n",
        "import pandas as pd\n",
        "import matplotlib.pyplot as plt\n",
        "import seaborn as sns\n",
        "import tensorflow as tf\n",
        "import keras\n",
        "from keras import layers"
      ]
    },
    {
      "cell_type": "code",
      "execution_count": null,
      "metadata": {
        "execution": {
          "iopub.execute_input": "2021-12-05T07:38:00.023204Z",
          "iopub.status.busy": "2021-12-05T07:38:00.022758Z",
          "iopub.status.idle": "2021-12-05T07:38:00.030874Z",
          "shell.execute_reply": "2021-12-05T07:38:00.026626Z",
          "shell.execute_reply.started": "2021-12-05T07:38:00.023168Z"
        },
        "id": "hJ9cOcu7m0EG"
      },
      "outputs": [],
      "source": [
        "from tensorflow.keras.preprocessing.image import ImageDataGenerator"
      ]
    },
    {
      "cell_type": "code",
      "execution_count": null,
      "metadata": {
        "execution": {
          "iopub.execute_input": "2021-12-05T07:38:00.035369Z",
          "iopub.status.busy": "2021-12-05T07:38:00.035003Z",
          "iopub.status.idle": "2021-12-05T07:38:05.321539Z",
          "shell.execute_reply": "2021-12-05T07:38:05.320748Z",
          "shell.execute_reply.started": "2021-12-05T07:38:00.035337Z"
        },
        "id": "7ZvfOO03m0EG",
        "outputId": "b2fb8d0b-d60d-4549-aac8-c757d2175188"
      },
      "outputs": [
        {
          "name": "stdout",
          "output_type": "stream",
          "text": [
            "Found 5011 images belonging to 3 classes.\n",
            "Found 980 images belonging to 3 classes.\n",
            "Found 970 images belonging to 3 classes.\n"
          ]
        }
      ],
      "source": [
        "train_gen = ImageDataGenerator().flow_from_directory(\"../input/zeytin-yaprak-224-aug/Zeytin_224x224_Augmented/train\", target_size=(256, 256), class_mode=\"sparse\")\n",
        "val_gen = ImageDataGenerator().flow_from_directory(\"../input/zeytin-yaprak-224-aug/Zeytin_224x224_Augmented/val\", target_size=(256, 256), class_mode=\"sparse\")\n",
        "test_gen = ImageDataGenerator().flow_from_directory(\"../input/zeytin-yaprak-224-aug/Zeytin_224x224_Augmented/test\", target_size=(256, 256), class_mode=\"sparse\")"
      ]
    },
    {
      "cell_type": "code",
      "execution_count": null,
      "metadata": {
        "execution": {
          "iopub.execute_input": "2021-12-05T07:38:06.850446Z",
          "iopub.status.busy": "2021-12-05T07:38:06.849602Z",
          "iopub.status.idle": "2021-12-05T07:38:10.461935Z",
          "shell.execute_reply": "2021-12-05T07:38:10.461149Z",
          "shell.execute_reply.started": "2021-12-05T07:38:06.850371Z"
        },
        "id": "7wGrO-dEm0EH",
        "outputId": "3c22de0f-d6fa-4bd6-dffd-08e1b861d8aa"
      },
      "outputs": [
        {
          "name": "stderr",
          "output_type": "stream",
          "text": [
            "2021-12-05 07:38:06.933147: I tensorflow/stream_executor/cuda/cuda_gpu_executor.cc:937] successful NUMA node read from SysFS had negative value (-1), but there must be at least one NUMA node, so returning NUMA node zero\n",
            "2021-12-05 07:38:07.024265: I tensorflow/stream_executor/cuda/cuda_gpu_executor.cc:937] successful NUMA node read from SysFS had negative value (-1), but there must be at least one NUMA node, so returning NUMA node zero\n",
            "2021-12-05 07:38:07.025103: I tensorflow/stream_executor/cuda/cuda_gpu_executor.cc:937] successful NUMA node read from SysFS had negative value (-1), but there must be at least one NUMA node, so returning NUMA node zero\n",
            "2021-12-05 07:38:07.026321: I tensorflow/core/platform/cpu_feature_guard.cc:142] This TensorFlow binary is optimized with oneAPI Deep Neural Network Library (oneDNN) to use the following CPU instructions in performance-critical operations:  AVX2 AVX512F FMA\n",
            "To enable them in other operations, rebuild TensorFlow with the appropriate compiler flags.\n",
            "2021-12-05 07:38:07.027422: I tensorflow/stream_executor/cuda/cuda_gpu_executor.cc:937] successful NUMA node read from SysFS had negative value (-1), but there must be at least one NUMA node, so returning NUMA node zero\n",
            "2021-12-05 07:38:07.028083: I tensorflow/stream_executor/cuda/cuda_gpu_executor.cc:937] successful NUMA node read from SysFS had negative value (-1), but there must be at least one NUMA node, so returning NUMA node zero\n",
            "2021-12-05 07:38:07.028698: I tensorflow/stream_executor/cuda/cuda_gpu_executor.cc:937] successful NUMA node read from SysFS had negative value (-1), but there must be at least one NUMA node, so returning NUMA node zero\n",
            "2021-12-05 07:38:08.617583: I tensorflow/stream_executor/cuda/cuda_gpu_executor.cc:937] successful NUMA node read from SysFS had negative value (-1), but there must be at least one NUMA node, so returning NUMA node zero\n",
            "2021-12-05 07:38:08.618411: I tensorflow/stream_executor/cuda/cuda_gpu_executor.cc:937] successful NUMA node read from SysFS had negative value (-1), but there must be at least one NUMA node, so returning NUMA node zero\n",
            "2021-12-05 07:38:08.619059: I tensorflow/stream_executor/cuda/cuda_gpu_executor.cc:937] successful NUMA node read from SysFS had negative value (-1), but there must be at least one NUMA node, so returning NUMA node zero\n",
            "2021-12-05 07:38:08.619631: I tensorflow/core/common_runtime/gpu/gpu_device.cc:1510] Created device /job:localhost/replica:0/task:0/device:GPU:0 with 15403 MB memory:  -> device: 0, name: Tesla P100-PCIE-16GB, pci bus id: 0000:00:04.0, compute capability: 6.0\n"
          ]
        },
        {
          "name": "stdout",
          "output_type": "stream",
          "text": [
            "Downloading data from https://storage.googleapis.com/tensorflow/keras-applications/xception/xception_weights_tf_dim_ordering_tf_kernels_notop.h5\n",
            "83689472/83683744 [==============================] - 0s 0us/step\n",
            "83697664/83683744 [==============================] - 0s 0us/step\n"
          ]
        }
      ],
      "source": [
        "xception = tf.keras.applications.Xception(\n",
        "    input_shape=(256,256,3),\n",
        "    include_top=False,\n",
        "    classes=3)"
      ]
    },
    {
      "cell_type": "code",
      "execution_count": null,
      "metadata": {
        "execution": {
          "iopub.execute_input": "2021-12-05T07:38:10.464002Z",
          "iopub.status.busy": "2021-12-05T07:38:10.463769Z",
          "iopub.status.idle": "2021-12-05T07:38:10.480656Z",
          "shell.execute_reply": "2021-12-05T07:38:10.477775Z",
          "shell.execute_reply.started": "2021-12-05T07:38:10.463971Z"
        },
        "id": "snHEQlolm0EH"
      },
      "outputs": [],
      "source": [
        "for layer in xception.layers:\n",
        "    layer.trainable = True"
      ]
    },
    {
      "cell_type": "code",
      "execution_count": null,
      "metadata": {
        "execution": {
          "iopub.execute_input": "2021-12-05T07:38:10.483025Z",
          "iopub.status.busy": "2021-12-05T07:38:10.482641Z",
          "iopub.status.idle": "2021-12-05T07:38:10.508562Z",
          "shell.execute_reply": "2021-12-05T07:38:10.507701Z",
          "shell.execute_reply.started": "2021-12-05T07:38:10.482963Z"
        },
        "id": "liHmbUKrm0EI"
      },
      "outputs": [],
      "source": [
        "dense_top = tf.keras.Sequential([\n",
        "    layers.Flatten(name=\"flatten\"),\n",
        "    layers.Dropout(0.4, name=\"drpt1\"),\n",
        "    layers.BatchNormalization(name=\"bn1\"),\n",
        "    layers.Dense(256, activation=\"relu\", name=\"dns1\"),\n",
        "    layers.Dropout(0.25, name=\"drpt2\"),\n",
        "    layers.BatchNormalization(name=\"bn2\"),\n",
        "    layers.Dense(128, activation=\"relu\", name=\"dns2\"),\n",
        "    layers.Dropout(0.15, name=\"drpt3\"),\n",
        "    layers.BatchNormalization(name=\"bn3\"),\n",
        "    layers.Dense(3, activation=\"softmax\", name=\"dns3-output\")\n",
        "], name=\"DenseTop\")"
      ]
    },
    {
      "cell_type": "code",
      "execution_count": null,
      "metadata": {
        "execution": {
          "iopub.execute_input": "2021-12-05T07:38:10.511696Z",
          "iopub.status.busy": "2021-12-05T07:38:10.511126Z",
          "iopub.status.idle": "2021-12-05T07:38:10.519089Z",
          "shell.execute_reply": "2021-12-05T07:38:10.518202Z",
          "shell.execute_reply.started": "2021-12-05T07:38:10.511653Z"
        },
        "id": "7nj3eiH9m0EI"
      },
      "outputs": [],
      "source": [
        "class xception_prerocessing(tf.keras.layers.Layer):\n",
        "    def __init__(self):\n",
        "        super(xception_prerocessing, self).__init__()\n",
        "    def call(self, inputs):\n",
        "        return tf.keras.applications.xception.preprocess_input(inputs)"
      ]
    },
    {
      "cell_type": "code",
      "execution_count": null,
      "metadata": {
        "execution": {
          "iopub.execute_input": "2021-12-05T07:38:10.521053Z",
          "iopub.status.busy": "2021-12-05T07:38:10.520522Z",
          "iopub.status.idle": "2021-12-05T07:38:11.070085Z",
          "shell.execute_reply": "2021-12-05T07:38:11.069334Z",
          "shell.execute_reply.started": "2021-12-05T07:38:10.521015Z"
        },
        "id": "I8AxOpsQm0EJ"
      },
      "outputs": [],
      "source": [
        "model = tf.keras.Sequential([tf.keras.layers.InputLayer(input_shape=(256,256,3)),\n",
        "                             xception_prerocessing(),xception, dense_top], name=\"Prototype3\")"
      ]
    },
    {
      "cell_type": "code",
      "execution_count": null,
      "metadata": {
        "execution": {
          "iopub.execute_input": "2021-12-05T07:38:11.370929Z",
          "iopub.status.busy": "2021-12-05T07:38:11.370347Z",
          "iopub.status.idle": "2021-12-05T07:38:11.387861Z",
          "shell.execute_reply": "2021-12-05T07:38:11.386660Z",
          "shell.execute_reply.started": "2021-12-05T07:38:11.370887Z"
        },
        "id": "JMOcep_em0EJ",
        "outputId": "ab97274f-da19-4be6-f762-41b6fa830de3"
      },
      "outputs": [
        {
          "name": "stdout",
          "output_type": "stream",
          "text": [
            "Model: \"Prototype3\"\n",
            "_________________________________________________________________\n",
            "Layer (type)                 Output Shape              Param #   \n",
            "=================================================================\n",
            "xception_prerocessing (xcept (None, 256, 256, 3)       0         \n",
            "_________________________________________________________________\n",
            "xception (Functional)        (None, 8, 8, 2048)        20861480  \n",
            "_________________________________________________________________\n",
            "DenseTop (Sequential)        (None, 3)                 34113795  \n",
            "=================================================================\n",
            "Total params: 54,975,275\n",
            "Trainable params: 54,657,835\n",
            "Non-trainable params: 317,440\n",
            "_________________________________________________________________\n"
          ]
        }
      ],
      "source": [
        "model.summary()"
      ]
    },
    {
      "cell_type": "code",
      "execution_count": null,
      "metadata": {
        "execution": {
          "iopub.execute_input": "2021-12-05T07:38:11.730154Z",
          "iopub.status.busy": "2021-12-05T07:38:11.729885Z",
          "iopub.status.idle": "2021-12-05T07:38:11.861297Z",
          "shell.execute_reply": "2021-12-05T07:38:11.860534Z",
          "shell.execute_reply.started": "2021-12-05T07:38:11.730121Z"
        },
        "id": "LGTIvgktm0EK"
      },
      "outputs": [],
      "source": [
        "import tensorflow_addons as tfa\n",
        "model.compile(optimizer = \"adam\",\n",
        "              loss=\"sparse_categorical_crossentropy\",\n",
        "              metrics=[\"accuracy\"])"
      ]
    },
    {
      "cell_type": "code",
      "execution_count": null,
      "metadata": {
        "execution": {
          "iopub.execute_input": "2021-12-05T07:38:25.510112Z",
          "iopub.status.busy": "2021-12-05T07:38:25.509550Z",
          "iopub.status.idle": "2021-12-05T07:38:25.514797Z",
          "shell.execute_reply": "2021-12-05T07:38:25.513990Z",
          "shell.execute_reply.started": "2021-12-05T07:38:25.510075Z"
        },
        "id": "BqS2oe7hm0EK"
      },
      "outputs": [],
      "source": [
        "from tensorflow.keras.callbacks import ModelCheckpoint\n",
        "check = ModelCheckpoint(filepath='model.hdf5', monitor='val_loss', verbose=1, save_best_only=True, mode='min')"
      ]
    },
    {
      "cell_type": "code",
      "execution_count": null,
      "metadata": {
        "execution": {
          "iopub.execute_input": "2021-12-05T07:38:29.190316Z",
          "iopub.status.busy": "2021-12-05T07:38:29.190031Z",
          "iopub.status.idle": "2021-12-05T08:08:15.277881Z",
          "shell.execute_reply": "2021-12-05T08:08:15.277062Z",
          "shell.execute_reply.started": "2021-12-05T07:38:29.190283Z"
        },
        "id": "cNxCmv2Om0EK",
        "outputId": "c3120473-68a3-4b65-9185-68055c452931"
      },
      "outputs": [
        {
          "name": "stderr",
          "output_type": "stream",
          "text": [
            "2021-12-05 07:38:29.618806: I tensorflow/compiler/mlir/mlir_graph_optimization_pass.cc:185] None of the MLIR Optimization Passes are enabled (registered 2)\n"
          ]
        },
        {
          "name": "stdout",
          "output_type": "stream",
          "text": [
            "Epoch 1/20\n"
          ]
        },
        {
          "name": "stderr",
          "output_type": "stream",
          "text": [
            "2021-12-05 07:38:35.863917: I tensorflow/stream_executor/cuda/cuda_dnn.cc:369] Loaded cuDNN version 8005\n"
          ]
        },
        {
          "name": "stdout",
          "output_type": "stream",
          "text": [
            "157/157 [==============================] - 101s 562ms/step - loss: 0.3765 - accuracy: 0.8625 - val_loss: 0.2975 - val_accuracy: 0.9337\n",
            "\n",
            "Epoch 00001: val_loss improved from inf to 0.29750, saving model to model.hdf5\n"
          ]
        },
        {
          "name": "stderr",
          "output_type": "stream",
          "text": [
            "/opt/conda/lib/python3.7/site-packages/keras/utils/generic_utils.py:497: CustomMaskWarning: Custom mask layers require a config and must override get_config. When loading, the custom mask layer must be passed to the custom_objects argument.\n",
            "  category=CustomMaskWarning)\n"
          ]
        },
        {
          "name": "stdout",
          "output_type": "stream",
          "text": [
            "Epoch 2/20\n",
            "157/157 [==============================] - 82s 523ms/step - loss: 0.1368 - accuracy: 0.9587 - val_loss: 0.5159 - val_accuracy: 0.8051\n",
            "\n",
            "Epoch 00002: val_loss did not improve from 0.29750\n",
            "Epoch 3/20\n",
            "157/157 [==============================] - 82s 522ms/step - loss: 0.1149 - accuracy: 0.9647 - val_loss: 0.4552 - val_accuracy: 0.8714\n",
            "\n",
            "Epoch 00003: val_loss did not improve from 0.29750\n",
            "Epoch 4/20\n",
            "157/157 [==============================] - 82s 523ms/step - loss: 0.0730 - accuracy: 0.9784 - val_loss: 0.7015 - val_accuracy: 0.7378\n",
            "\n",
            "Epoch 00004: val_loss did not improve from 0.29750\n",
            "Epoch 5/20\n",
            "157/157 [==============================] - 82s 522ms/step - loss: 0.0609 - accuracy: 0.9800 - val_loss: 0.3504 - val_accuracy: 0.8796\n",
            "\n",
            "Epoch 00005: val_loss did not improve from 0.29750\n",
            "Epoch 6/20\n",
            "157/157 [==============================] - 82s 523ms/step - loss: 0.0701 - accuracy: 0.9771 - val_loss: 0.4051 - val_accuracy: 0.9051\n",
            "\n",
            "Epoch 00006: val_loss did not improve from 0.29750\n",
            "Epoch 7/20\n",
            "157/157 [==============================] - 82s 523ms/step - loss: 0.0692 - accuracy: 0.9788 - val_loss: 0.5266 - val_accuracy: 0.8490\n",
            "\n",
            "Epoch 00007: val_loss did not improve from 0.29750\n",
            "Epoch 8/20\n",
            "157/157 [==============================] - 82s 524ms/step - loss: 0.0459 - accuracy: 0.9876 - val_loss: 1.1848 - val_accuracy: 0.6867\n",
            "\n",
            "Epoch 00008: val_loss did not improve from 0.29750\n",
            "Epoch 9/20\n",
            "157/157 [==============================] - 82s 523ms/step - loss: 0.0346 - accuracy: 0.9912 - val_loss: 0.2122 - val_accuracy: 0.9388\n",
            "\n",
            "Epoch 00009: val_loss improved from 0.29750 to 0.21217, saving model to model.hdf5\n",
            "Epoch 10/20\n",
            "157/157 [==============================] - 82s 523ms/step - loss: 0.0379 - accuracy: 0.9882 - val_loss: 0.6069 - val_accuracy: 0.8194\n",
            "\n",
            "Epoch 00010: val_loss did not improve from 0.21217\n",
            "Epoch 11/20\n",
            "157/157 [==============================] - 82s 524ms/step - loss: 0.0593 - accuracy: 0.9826 - val_loss: 0.6919 - val_accuracy: 0.8602\n",
            "\n",
            "Epoch 00011: val_loss did not improve from 0.21217\n",
            "Epoch 12/20\n",
            "157/157 [==============================] - 82s 523ms/step - loss: 0.0486 - accuracy: 0.9852 - val_loss: 0.1744 - val_accuracy: 0.9388\n",
            "\n",
            "Epoch 00012: val_loss improved from 0.21217 to 0.17444, saving model to model.hdf5\n",
            "Epoch 13/20\n",
            "157/157 [==============================] - 82s 524ms/step - loss: 0.0163 - accuracy: 0.9956 - val_loss: 0.3021 - val_accuracy: 0.9194\n",
            "\n",
            "Epoch 00013: val_loss did not improve from 0.17444\n",
            "Epoch 14/20\n",
            "157/157 [==============================] - 82s 524ms/step - loss: 0.0398 - accuracy: 0.9894 - val_loss: 0.4126 - val_accuracy: 0.8673\n",
            "\n",
            "Epoch 00014: val_loss did not improve from 0.17444\n",
            "Epoch 15/20\n",
            "157/157 [==============================] - 83s 525ms/step - loss: 0.0263 - accuracy: 0.9920 - val_loss: 0.8410 - val_accuracy: 0.8173\n",
            "\n",
            "Epoch 00015: val_loss did not improve from 0.17444\n",
            "Epoch 16/20\n",
            "157/157 [==============================] - 82s 524ms/step - loss: 0.0372 - accuracy: 0.9862 - val_loss: 0.4283 - val_accuracy: 0.8653\n",
            "\n",
            "Epoch 00016: val_loss did not improve from 0.17444\n",
            "Epoch 17/20\n",
            "157/157 [==============================] - 82s 525ms/step - loss: 0.0441 - accuracy: 0.9882 - val_loss: 0.4212 - val_accuracy: 0.8714\n",
            "\n",
            "Epoch 00017: val_loss did not improve from 0.17444\n",
            "Epoch 18/20\n",
            "157/157 [==============================] - 82s 524ms/step - loss: 0.0272 - accuracy: 0.9908 - val_loss: 0.7483 - val_accuracy: 0.8265\n",
            "\n",
            "Epoch 00018: val_loss did not improve from 0.17444\n",
            "Epoch 19/20\n",
            "157/157 [==============================] - 83s 527ms/step - loss: 0.0191 - accuracy: 0.9938 - val_loss: 1.2714 - val_accuracy: 0.8031\n",
            "\n",
            "Epoch 00019: val_loss did not improve from 0.17444\n",
            "Epoch 20/20\n",
            "157/157 [==============================] - 82s 524ms/step - loss: 0.0293 - accuracy: 0.9916 - val_loss: 0.2175 - val_accuracy: 0.9327\n",
            "\n",
            "Epoch 00020: val_loss did not improve from 0.17444\n"
          ]
        }
      ],
      "source": [
        "history = model.fit(x=train_gen, validation_data=val_gen, epochs=20, callbacks=[check])"
      ]
    },
    {
      "cell_type": "code",
      "execution_count": null,
      "metadata": {
        "id": "ckcRSdk5m0EL"
      },
      "outputs": [],
      "source": [
        ""
      ]
    },
    {
      "cell_type": "code",
      "execution_count": null,
      "metadata": {
        "execution": {
          "iopub.execute_input": "2021-12-05T08:08:15.280042Z",
          "iopub.status.busy": "2021-12-05T08:08:15.279760Z",
          "iopub.status.idle": "2021-12-05T08:08:15.284903Z",
          "shell.execute_reply": "2021-12-05T08:08:15.283950Z",
          "shell.execute_reply.started": "2021-12-05T08:08:15.280001Z"
        },
        "id": "Q_8vsQ9Im0EL"
      },
      "outputs": [],
      "source": [
        "from keras import Model"
      ]
    },
    {
      "cell_type": "code",
      "execution_count": null,
      "metadata": {
        "execution": {
          "iopub.execute_input": "2021-12-05T07:05:22.686752Z",
          "iopub.status.busy": "2021-12-05T07:05:22.685922Z",
          "iopub.status.idle": "2021-12-05T07:05:23.099471Z",
          "shell.execute_reply": "2021-12-05T07:05:23.098727Z",
          "shell.execute_reply.started": "2021-12-05T07:05:22.686711Z"
        },
        "id": "OgoDUbE3m0EL"
      },
      "outputs": [],
      "source": [
        "#model.load_weights(\"./model.h5\")"
      ]
    },
    {
      "cell_type": "code",
      "execution_count": null,
      "metadata": {
        "execution": {
          "iopub.execute_input": "2021-12-05T08:15:27.415452Z",
          "iopub.status.busy": "2021-12-05T08:15:27.415137Z",
          "iopub.status.idle": "2021-12-05T08:15:49.482771Z",
          "shell.execute_reply": "2021-12-05T08:15:49.481942Z",
          "shell.execute_reply.started": "2021-12-05T08:15:27.415418Z"
        },
        "id": "1qW0KgdZm0EL"
      },
      "outputs": [],
      "source": [
        "ypred_trn = model.predict(train_gen)\n",
        "ypred_val = model.predict(val_gen)\n",
        "ypred_tst = model.predict(test_gen)"
      ]
    },
    {
      "cell_type": "code",
      "execution_count": null,
      "metadata": {
        "execution": {
          "iopub.execute_input": "2021-12-05T08:08:42.224724Z",
          "iopub.status.busy": "2021-12-05T08:08:42.224205Z",
          "iopub.status.idle": "2021-12-05T08:08:42.234172Z",
          "shell.execute_reply": "2021-12-05T08:08:42.233442Z",
          "shell.execute_reply.started": "2021-12-05T08:08:42.224685Z"
        },
        "id": "AnTwRY7tm0EM",
        "outputId": "c73fa315-7a7b-4ba3-f372-486faff494ea"
      },
      "outputs": [
        {
          "data": {
            "text/plain": [
              "<tf.Tensor: shape=(5011,), dtype=int64, numpy=array([2, 2, 1, ..., 0, 0, 1])>"
            ]
          },
          "execution_count": 16,
          "metadata": {},
          "output_type": "execute_result"
        }
      ],
      "source": [
        "tf.argmax(ypred_trn, axis=1)"
      ]
    },
    {
      "cell_type": "code",
      "execution_count": null,
      "metadata": {
        "execution": {
          "iopub.execute_input": "2021-12-05T08:08:42.236466Z",
          "iopub.status.busy": "2021-12-05T08:08:42.235827Z",
          "iopub.status.idle": "2021-12-05T08:08:42.242889Z",
          "shell.execute_reply": "2021-12-05T08:08:42.242018Z",
          "shell.execute_reply.started": "2021-12-05T08:08:42.236428Z"
        },
        "id": "2wFpUMGvm0EM",
        "outputId": "507aaa13-571c-4620-8677-ae8f3b477b88"
      },
      "outputs": [
        {
          "data": {
            "text/plain": [
              "array([0, 0, 0, ..., 2, 2, 2], dtype=int32)"
            ]
          },
          "execution_count": 17,
          "metadata": {},
          "output_type": "execute_result"
        }
      ],
      "source": [
        "train_gen.labels"
      ]
    },
    {
      "cell_type": "code",
      "execution_count": null,
      "metadata": {
        "execution": {
          "iopub.execute_input": "2021-12-05T08:15:49.486563Z",
          "iopub.status.busy": "2021-12-05T08:15:49.486345Z",
          "iopub.status.idle": "2021-12-05T08:15:49.494369Z",
          "shell.execute_reply": "2021-12-05T08:15:49.493654Z",
          "shell.execute_reply.started": "2021-12-05T08:15:49.486537Z"
        },
        "id": "AJRcQrmCm0EM"
      },
      "outputs": [],
      "source": [
        "trainprd = tf.argmax(ypred_trn, axis=1)\n",
        "valprd = tf.argmax(ypred_val, axis=1)\n",
        "testprd = tf.argmax(ypred_tst, axis=1)"
      ]
    },
    {
      "cell_type": "code",
      "execution_count": null,
      "metadata": {
        "execution": {
          "iopub.execute_input": "2021-12-05T08:15:49.497750Z",
          "iopub.status.busy": "2021-12-05T08:15:49.497543Z",
          "iopub.status.idle": "2021-12-05T08:15:49.922030Z",
          "shell.execute_reply": "2021-12-05T08:15:49.921261Z",
          "shell.execute_reply.started": "2021-12-05T08:15:49.497724Z"
        },
        "id": "RejMm_Agm0EN",
        "outputId": "e3e9dc6d-25f0-4295-ccb3-8dd203e2004c"
      },
      "outputs": [
        {
          "data": {
            "image/png": "[encoded data removed]",
            "text/plain": [
              "<Figure size 432x288 with 1 Axes>"
            ]
          },
          "metadata": {
            "needs_background": "light"
          },
          "output_type": "display_data"
        },
        {
          "data": {
            "image/png": "[encoded data removed]",
            "text/plain": [
              "<Figure size 432x288 with 1 Axes>"
            ]
          },
          "metadata": {
            "needs_background": "light"
          },
          "output_type": "display_data"
        }
      ],
      "source": [
        "plt.plot(history.history['accuracy'])\n",
        "plt.plot(history.history['val_accuracy'])\n",
        "plt.title('model accuracy')\n",
        "plt.ylabel('accuracy')\n",
        "plt.xlabel('epoch')\n",
        "plt.legend(['train', 'test'], loc='upper left')\n",
        "plt.show()\n",
        "plt.plot(history.history['loss'])\n",
        "plt.plot(history.history['val_loss'])\n",
        "plt.title('model loss')\n",
        "plt.ylabel('loss')\n",
        "plt.xlabel('epoch')\n",
        "plt.legend(['train', 'test'], loc='upper left')\n",
        "plt.show()"
      ]
    },
    {
      "cell_type": "code",
      "execution_count": null,
      "metadata": {
        "execution": {
          "iopub.execute_input": "2021-12-05T08:16:51.124202Z",
          "iopub.status.busy": "2021-12-05T08:16:51.123681Z",
          "iopub.status.idle": "2021-12-05T08:16:51.129580Z",
          "shell.execute_reply": "2021-12-05T08:16:51.127116Z",
          "shell.execute_reply.started": "2021-12-05T08:16:51.124166Z"
        },
        "id": "YTMUNh__m0EN"
      },
      "outputs": [],
      "source": [
        "from PIL import Image"
      ]
    },
    {
      "cell_type": "code",
      "execution_count": null,
      "metadata": {
        "execution": {
          "iopub.execute_input": "2021-12-05T08:16:51.254481Z",
          "iopub.status.busy": "2021-12-05T08:16:51.254247Z",
          "iopub.status.idle": "2021-12-05T08:16:51.257872Z",
          "shell.execute_reply": "2021-12-05T08:16:51.256973Z",
          "shell.execute_reply.started": "2021-12-05T08:16:51.254454Z"
        },
        "id": "UDPmSpv_m0EO"
      },
      "outputs": [],
      "source": [
        "import os"
      ]
    },
    {
      "cell_type": "code",
      "execution_count": null,
      "metadata": {
        "execution": {
          "iopub.execute_input": "2021-12-05T08:29:21.541195Z",
          "iopub.status.busy": "2021-12-05T08:29:21.540903Z",
          "iopub.status.idle": "2021-12-05T08:34:42.124682Z",
          "shell.execute_reply": "2021-12-05T08:34:42.123899Z",
          "shell.execute_reply.started": "2021-12-05T08:29:21.541166Z"
        },
        "id": "TrtynMGhm0EO"
      },
      "outputs": [],
      "source": [
        "names = [\"Train\", \"Val\", \"Test\"]\n",
        "folders = [\"../input/zeytin-yaprak-224-aug/Zeytin_224x224_Augmented/train\", \"../input/zeytin-yaprak-224-aug/Zeytin_224x224_Augmented/val\", \"../input/zeytin-yaprak-224-aug/Zeytin_224x224_Augmented/test\"]\n",
        "gens = [train_gen, val_gen, test_gen]\n",
        "resdict = dict()\n",
        "for i in range(len(names)):\n",
        "    predlabels=[]\n",
        "    truelabels=[]\n",
        "    fold = folders[i]\n",
        "    subs = os.listdir(fold)\n",
        "    for j in range(len(subs)):\n",
        "        s = subs[j]\n",
        "        for impath in os.listdir(os.path.join(fold,s)):\n",
        "            impath = os.path.join(fold, s, impath)\n",
        "            img = np.array(Image.open(impath).resize((256,256))).reshape((1,256,256,3))\n",
        "            predlabels.append(model.predict(img))\n",
        "            truelabels.append(s)\n",
        "    results = pd.DataFrame(np.empty(shape=(len(truelabels), 2)), columns=[\"Truth\", \"Pred\"])\n",
        "    results[\"Truth\"]=truelabels\n",
        "    results[\"Pred\"]=predlabels\n",
        "    resdict[names[i]] = results"
      ]
    },
    {
      "cell_type": "code",
      "execution_count": null,
      "metadata": {
        "execution": {
          "iopub.execute_input": "2021-12-05T08:50:40.481135Z",
          "iopub.status.busy": "2021-12-05T08:50:40.480834Z",
          "iopub.status.idle": "2021-12-05T08:50:40.615947Z",
          "shell.execute_reply": "2021-12-05T08:50:40.615146Z",
          "shell.execute_reply.started": "2021-12-05T08:50:40.481102Z"
        },
        "id": "g1_HE041m0EO"
      },
      "outputs": [],
      "source": [
        "for n in names:\n",
        "    thislis = []\n",
        "    for i in range(len(resdict[n][\"Pred\"])):\n",
        "        thislis.append(np.argmax(resdict[n][\"Pred\"][i]))\n",
        "    resdict[n][\"Pred\"] = thislis"
      ]
    },
    {
      "cell_type": "code",
      "execution_count": null,
      "metadata": {
        "execution": {
          "iopub.execute_input": "2021-12-05T08:43:10.641189Z",
          "iopub.status.busy": "2021-12-05T08:43:10.640909Z",
          "iopub.status.idle": "2021-12-05T08:43:10.649452Z",
          "shell.execute_reply": "2021-12-05T08:43:10.648521Z",
          "shell.execute_reply.started": "2021-12-05T08:43:10.641159Z"
        },
        "id": "2vSgc1j4m0EO",
        "outputId": "5ed4ee30-fa8d-4556-8a7e-b29d1bd90b67"
      },
      "outputs": [
        {
          "data": {
            "text/plain": [
              "{'Kus_Gozu_Mantari': 0, 'Pas_Akari': 1, 'Saglikli': 2}"
            ]
          },
          "execution_count": 47,
          "metadata": {},
          "output_type": "execute_result"
        }
      ],
      "source": [
        "train_gen.class_indices"
      ]
    },
    {
      "cell_type": "code",
      "execution_count": null,
      "metadata": {
        "execution": {
          "iopub.execute_input": "2021-12-05T08:38:12.921218Z",
          "iopub.status.busy": "2021-12-05T08:38:12.920927Z",
          "iopub.status.idle": "2021-12-05T08:38:13.063126Z",
          "shell.execute_reply": "2021-12-05T08:38:13.062341Z",
          "shell.execute_reply.started": "2021-12-05T08:38:12.921185Z"
        },
        "id": "ZAaP2JTum0EP"
      },
      "outputs": [],
      "source": [
        "from sklearn.metrics import fbeta_score, classification_report, confusion_matrix"
      ]
    },
    {
      "cell_type": "code",
      "execution_count": null,
      "metadata": {
        "execution": {
          "iopub.execute_input": "2021-12-05T08:44:49.813906Z",
          "iopub.status.busy": "2021-12-05T08:44:49.813645Z",
          "iopub.status.idle": "2021-12-05T08:44:49.823080Z",
          "shell.execute_reply": "2021-12-05T08:44:49.822419Z",
          "shell.execute_reply.started": "2021-12-05T08:44:49.813878Z"
        },
        "id": "dpQBJFwim0EP",
        "outputId": "537d1c04-da40-41c6-c5c9-69a77729d705"
      },
      "outputs": [
        {
          "data": {
            "text/plain": [
              "0       2\n",
              "1       2\n",
              "2       2\n",
              "3       2\n",
              "4       2\n",
              "       ..\n",
              "5006    0\n",
              "5007    0\n",
              "5008    0\n",
              "5009    0\n",
              "5010    0\n",
              "Name: Truth, Length: 5011, dtype: int64"
            ]
          },
          "execution_count": 51,
          "metadata": {},
          "output_type": "execute_result"
        }
      ],
      "source": [
        "resdict['Train'][\"Truth\"].map({'Kus_Gozu_Mantari': 0, 'Pas_Akari': 1, 'Saglikli': 2})"
      ]
    },
    {
      "cell_type": "code",
      "execution_count": null,
      "metadata": {
        "execution": {
          "iopub.execute_input": "2021-12-05T08:51:42.821314Z",
          "iopub.status.busy": "2021-12-05T08:51:42.821037Z",
          "iopub.status.idle": "2021-12-05T08:51:42.830874Z",
          "shell.execute_reply": "2021-12-05T08:51:42.830040Z",
          "shell.execute_reply.started": "2021-12-05T08:51:42.821284Z"
        },
        "id": "z-GTJtBym0EP"
      },
      "outputs": [],
      "source": [
        "for n in names:\n",
        "    resdict[n]['Truth'] = resdict[n]['Truth'].map({'Kus_Gozu_Mantari': 0, 'Pas_Akari': 1, 'Saglikli': 2})"
      ]
    },
    {
      "cell_type": "code",
      "execution_count": null,
      "metadata": {
        "execution": {
          "iopub.execute_input": "2021-12-05T08:54:08.745957Z",
          "iopub.status.busy": "2021-12-05T08:54:08.745446Z",
          "iopub.status.idle": "2021-12-05T08:54:09.447929Z",
          "shell.execute_reply": "2021-12-05T08:54:09.447222Z",
          "shell.execute_reply.started": "2021-12-05T08:54:08.745923Z"
        },
        "id": "713nQ4thm0EP",
        "outputId": "ec3d0528-2f44-49b8-ad22-9ee91585d348"
      },
      "outputs": [
        {
          "name": "stdout",
          "output_type": "stream",
          "text": [
            "Training Results:\n",
            "              precision    recall  f1-score   support\n",
            "\n",
            "           0       1.00      0.96      0.98      2397\n",
            "           1       1.00      0.90      0.94      1188\n",
            "           2       0.87      1.00      0.93      1426\n",
            "\n",
            "    accuracy                           0.96      5011\n",
            "   macro avg       0.96      0.95      0.95      5011\n",
            "weighted avg       0.96      0.96      0.96      5011\n",
            "\n"
          ]
        },
        {
          "data": {
            "image/png": "[encoded data removed]",
            "text/plain": [
              "<Figure size 432x288 with 2 Axes>"
            ]
          },
          "metadata": {
            "needs_background": "light"
          },
          "output_type": "display_data"
        },
        {
          "name": "stdout",
          "output_type": "stream",
          "text": [
            "\n",
            "\n",
            "Validation Results:\n",
            "              precision    recall  f1-score   support\n",
            "\n",
            "           0       0.96      0.93      0.95       460\n",
            "           1       0.99      0.91      0.95       290\n",
            "           2       0.82      0.95      0.88       230\n",
            "\n",
            "    accuracy                           0.93       980\n",
            "   macro avg       0.92      0.93      0.93       980\n",
            "weighted avg       0.94      0.93      0.93       980\n",
            "\n"
          ]
        },
        {
          "data": {
            "image/png": "[encoded data removed]",
            "text/plain": [
              "<Figure size 432x288 with 2 Axes>"
            ]
          },
          "metadata": {
            "needs_background": "light"
          },
          "output_type": "display_data"
        },
        {
          "name": "stdout",
          "output_type": "stream",
          "text": [
            "\n",
            "\n",
            "Testing Results:\n",
            "              precision    recall  f1-score   support\n",
            "\n",
            "           0       0.97      0.93      0.95       400\n",
            "           1       0.97      0.76      0.85       300\n",
            "           2       0.75      0.98      0.85       270\n",
            "\n",
            "    accuracy                           0.89       970\n",
            "   macro avg       0.90      0.89      0.88       970\n",
            "weighted avg       0.91      0.89      0.89       970\n",
            "\n"
          ]
        },
        {
          "data": {
            "image/png": "[encoded data removed]",
            "text/plain": [
              "<Figure size 432x288 with 2 Axes>"
            ]
          },
          "metadata": {
            "needs_background": "light"
          },
          "output_type": "display_data"
        }
      ],
      "source": [
        "print(f\"Training Results:\\n{classification_report(resdict['Train']['Truth'], resdict['Train']['Pred'])}\")\n",
        "sns.heatmap(confusion_matrix(resdict['Train']['Truth'], resdict['Train']['Pred']), annot=True, fmt=\".2f\", cmap=\"Blues\", vmin=0)\n",
        "plt.show()\n",
        "print(f\"\\n\\nValidation Results:\\n{classification_report(resdict['Val']['Truth'], resdict['Val']['Pred'])}\")\n",
        "sns.heatmap(confusion_matrix(resdict['Val']['Truth'], resdict['Val']['Pred']), annot=True, fmt=\".2f\", cmap=\"Blues\", vmin=0)\n",
        "plt.show()\n",
        "print(f\"\\n\\nTesting Results:\\n{classification_report(resdict['Test']['Truth'], resdict['Test']['Pred'])}\")\n",
        "sns.heatmap(confusion_matrix(resdict['Test']['Truth'], resdict['Test']['Pred']), annot=True, fmt=\".2f\", cmap=\"Blues\", vmin=0)\n",
        "plt.show()"
      ]
    },
    {
      "cell_type": "code",
      "execution_count": null,
      "metadata": {
        "id": "LJLQs8Sqm0EQ"
      },
      "outputs": [],
      "source": [
        "for beta in []"
      ]
    }
  ],
  "metadata": {
    "kernelspec": {
      "display_name": "Python 3",
      "language": "python",
      "name": "python3"
    },
    "language_info": {
      "codemirror_mode": {
        "name": "ipython",
        "version": 3
      },
      "file_extension": ".py",
      "mimetype": "text/x-python",
      "name": "python",
      "nbconvert_exporter": "python",
      "pygments_lexer": "ipython3",
      "version": "3.8.5"
    },
    "colab": {
      "name": "VISION-TRACK-IDSS-COMPETITION.ipynb",
      "provenance": []
    }
  },
  "nbformat": 4,
  "nbformat_minor": 0
}